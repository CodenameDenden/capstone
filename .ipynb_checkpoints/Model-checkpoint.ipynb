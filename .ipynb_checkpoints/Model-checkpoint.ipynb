{
 "cells": [
  {
   "cell_type": "code",
   "execution_count": 3,
   "id": "6b5e0e08-fde5-460b-bd4d-d43c383f6f95",
   "metadata": {
    "scrolled": true
   },
   "outputs": [
    {
     "name": "stdout",
     "output_type": "stream",
     "text": [
      "Predicted Offense Tag: 12.1.3\n"
     ]
    },
    {
     "name": "stderr",
     "output_type": "stream",
     "text": [
      "C:\\Users\\aedri\\AppData\\Local\\Programs\\Python\\Python311\\Lib\\site-packages\\sklearn\\svm\\_classes.py:32: FutureWarning: The default value of `dual` will change from `True` to `'auto'` in 1.5. Set the value of `dual` explicitly to suppress the warning.\n",
      "  warnings.warn(\n"
     ]
    }
   ],
   "source": [
    "import pandas as pd\n",
    "from sklearn.feature_extraction.text import TfidfVectorizer\n",
    "from sklearn.svm import LinearSVC\n",
    "\n",
    "# Load your dataset\n",
    "music_data = pd.read_csv('Grievance_New.csv', encoding='latin-1')\n",
    "\n",
    "# Check for and handle missing values (NaN) in the 'Grievance/Complaint' and 'Offense Tag(s)' columns\n",
    "music_data = music_data.dropna(subset=['grievance', 'offense_tag'])\n",
    "\n",
    "# Input text\n",
    "new_input = \"someone is using the property of the school in a wrong way.\"\n",
    "\n",
    "# Initialize a TF-IDF vectorizer\n",
    "tfidf_vectorizer = TfidfVectorizer()\n",
    "\n",
    "# Transform the text data into TF-IDF vectors\n",
    "X = tfidf_vectorizer.fit_transform(music_data['grievance'])\n",
    "\n",
    "# Initialize the Linear SVC classifier with dual=False to suppress the warning\n",
    "svc_classifier = LinearSVC(dual=False)\n",
    "\n",
    "# Fit the classifier to the data\n",
    "svc_classifier.fit(X, music_data['offense_tag'])\n",
    "\n",
    "# Transform the new input\n",
    "new_input_tfidf = tfidf_vectorizer.transform([new_input])\n",
    "\n",
    "# Predict the offense tag for the new input\n",
    "predicted_tag = svc_classifier.predict(new_input_tfidf)\n",
    "\n",
    "print(f\"Predicted Offense Tag: {predicted_tag[0]}\")\n"
   ]
  },
  {
   "cell_type": "code",
   "execution_count": null,
   "id": "d076adb0-99b7-4ed8-87ec-69dcc0391660",
   "metadata": {},
   "outputs": [],
   "source": []
  }
 ],
 "metadata": {
  "kernelspec": {
   "display_name": "Python 3 (ipykernel)",
   "language": "python",
   "name": "python3"
  },
  "language_info": {
   "codemirror_mode": {
    "name": "ipython",
    "version": 3
   },
   "file_extension": ".py",
   "mimetype": "text/x-python",
   "name": "python",
   "nbconvert_exporter": "python",
   "pygments_lexer": "ipython3",
   "version": "3.11.3"
  }
 },
 "nbformat": 4,
 "nbformat_minor": 5
}
