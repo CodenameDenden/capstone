{
 "cells": [
  {
   "cell_type": "code",
   "execution_count": 14,
   "id": "6b5e0e08-fde5-460b-bd4d-d43c383f6f95",
   "metadata": {
    "scrolled": true
   },
   "outputs": [
    {
     "name": "stdout",
     "output_type": "stream",
     "text": [
      "Prediction 1: Offense Tag: 12.1.1, Confidence Score: -0.00843994507232948\n",
      "Prediction 2: Offense Tag: 12.1.1, Confidence Score: -0.5216424352738593\n",
      "Prediction 3: Offense Tag: 12.1.1, Confidence Score: -0.6726968416610293\n",
      "Prediction 4: Offense Tag: 12.1.1, Confidence Score: -0.802223482181654\n",
      "Prediction 5: Offense Tag: 12.1.1, Confidence Score: -0.8092584610445701\n",
      "Prediction 6: Offense Tag: 12.1.1, Confidence Score: -0.8112847389219432\n",
      "Prediction 7: Offense Tag: 12.1.1, Confidence Score: -0.8120702065572845\n",
      "Prediction 8: Offense Tag: 12.1.1, Confidence Score: -0.9556549699042582\n",
      "Prediction 9: Offense Tag: 12.1.1, Confidence Score: -0.9754162707456019\n",
      "Prediction 10: Offense Tag: 12.1.1, Confidence Score: -1.016796090753679\n"
     ]
    }
   ],
   "source": [
    "import pandas as pd\n",
    "from sklearn.feature_extraction.text import TfidfVectorizer\n",
    "from sklearn.svm import LinearSVC\n",
    "\n",
    "# Load your dataset\n",
    "music_data = pd.read_csv('Grievance_New.csv', encoding='latin-1')\n",
    "\n",
    "# Check for and handle missing values (NaN) in the 'Grievance/Complaint' and 'Offense Tag(s)' columns\n",
    "music_data = music_data.dropna(subset=['Grievance/Complaint', 'Offense Tag(s)'])\n",
    "\n",
    "# Input text\n",
    "new_input = \"someone is using the property of the school in a wrong way.\"\n",
    "\n",
    "# Initialize a TF-IDF vectorizer\n",
    "tfidf_vectorizer = TfidfVectorizer()\n",
    "\n",
    "# Transform the text data into TF-IDF vectors\n",
    "X = tfidf_vectorizer.fit_transform(music_data['Grievance/Complaint'])\n",
    "\n",
    "# Initialize the Linear SVC classifier with dual=False to suppress the warning\n",
    "svc_classifier = LinearSVC(dual=False)\n",
    "\n",
    "# Fit the classifier to the data\n",
    "svc_classifier.fit(X, music_data['Offense Tag(s)'])\n",
    "\n",
    "# Transform the new input\n",
    "new_input_tfidf = tfidf_vectorizer.transform([new_input])\n",
    "\n",
    "# Predict the top 10 offense tags for the new input\n",
    "predicted_tags = svc_classifier.decision_function(new_input_tfidf)\n",
    "top_10_indices = predicted_tags[0].argsort()[-10:][::-1]\n",
    "\n",
    "# Get the corresponding offense tags and their confidence scores\n",
    "predicted_offense_tags = music_data.iloc[top_10_indices]['Offense Tag(s)']\n",
    "confidence_scores = predicted_tags[0][top_10_indices]\n",
    "\n",
    "# Print the top 10 predicted offense tags and their confidence scores\n",
    "for i, (offense_tag, confidence) in enumerate(zip(predicted_offense_tags, confidence_scores), 1):\n",
    "    print(f\"Prediction {i}: Offense Tag: {offense_tag}, Confidence Score: {confidence}\")\n"
   ]
  },
  {
   "cell_type": "code",
   "execution_count": null,
   "id": "d076adb0-99b7-4ed8-87ec-69dcc0391660",
   "metadata": {},
   "outputs": [],
   "source": []
  }
 ],
 "metadata": {
  "kernelspec": {
   "display_name": "Python 3 (ipykernel)",
   "language": "python",
   "name": "python3"
  },
  "language_info": {
   "codemirror_mode": {
    "name": "ipython",
    "version": 3
   },
   "file_extension": ".py",
   "mimetype": "text/x-python",
   "name": "python",
   "nbconvert_exporter": "python",
   "pygments_lexer": "ipython3",
   "version": "3.11.3"
  }
 },
 "nbformat": 4,
 "nbformat_minor": 5
}
